{
 "cells": [
  {
   "cell_type": "markdown",
   "metadata": {},
   "source": [
    "# Regressão linear 1: solução analítica\n",
    "\n",
    "Nesse sessão vamos apresentar ------- FALAR REGRESSÃO\n",
    "\n",
    "\n",
    "As principais bibliotecas usadas aqui são:\n",
    "- [numpy](https://docs.scipy.org/doc/numpy-dev/user/quickstart.html) (necessária para o exercício)\n",
    "- [matplotlib](https://matplotlib.org/tutorials/index.html)"
   ]
  },
  {
   "cell_type": "code",
   "execution_count": null,
   "metadata": {},
   "outputs": [],
   "source": [
    "# all imports\n",
    "import numpy as np\n",
    "from util import get_hausing_prices_data, plot_points_regression\n",
    "%matplotlib inline"
   ]
  },
  {
   "cell_type": "markdown",
   "metadata": {},
   "source": [
    "###  dados de casa - descricao"
   ]
  },
  {
   "cell_type": "code",
   "execution_count": null,
   "metadata": {},
   "outputs": [],
   "source": [
    "X, y = get_hausing_prices_data(N=100)"
   ]
  },
  {
   "cell_type": "markdown",
   "metadata": {},
   "source": [
    "### plotando os dados"
   ]
  },
  {
   "cell_type": "code",
   "execution_count": null,
   "metadata": {},
   "outputs": [],
   "source": [
    "title = 'House prices prediction'\n",
    "xlabel = \"m\\u00b2\"\n",
    "ylabel = '$'\n",
    "plot_points_regression(X, y, title, xlabel, ylabel)"
   ]
  },
  {
   "cell_type": "markdown",
   "metadata": {},
   "source": [
    "Um modo de resolver o problema da regressão é por meio da forma fechada, a chamada **equação normal**:\n",
    "\n",
    "$$\n",
    "\\mathbf{w} = (X^T . X)^{-1} . X^T . y\n",
    "$$\n",
    "\n",
    "- Problema: os dados precisam caber na memória\n",
    "- Problema: conforme cresce o número de variáveis, o tempo da inversão da matriz fica proibitivo"
   ]
  },
  {
   "cell_type": "code",
   "execution_count": null,
   "metadata": {},
   "outputs": [],
   "source": [
    "def normal_equation_prediction(X, y):\n",
    "    \"\"\"\n",
    "    Calculates the prediction using the normal equation method.\n",
    "    You should add a new row with 1s. \n",
    "    \n",
    "    :param X: design matrix\n",
    "    :type X: np.array\n",
    "    :param y: regression targets\n",
    "    :type y: np.array\n",
    "    :return: prediction\n",
    "    :rtype: np.array\n",
    "    \"\"\"\n",
    "    pass\n",
    "\n",
    "# prediction = normal_equation_prediction(X, y) \n",
    "# plot_points_regression(X, y, title, xlabel, ylabel, prediction=prediction,legend=True)"
   ]
  },
  {
   "cell_type": "code",
   "execution_count": null,
   "metadata": {},
   "outputs": [],
   "source": []
  }
 ],
 "metadata": {
  "kernelspec": {
   "display_name": "Python 3",
   "language": "python",
   "name": "python3"
  },
  "language_info": {
   "codemirror_mode": {
    "name": "ipython",
    "version": 3
   },
   "file_extension": ".py",
   "mimetype": "text/x-python",
   "name": "python",
   "nbconvert_exporter": "python",
   "pygments_lexer": "ipython3",
   "version": "3.5.2"
  }
 },
 "nbformat": 4,
 "nbformat_minor": 2
}
